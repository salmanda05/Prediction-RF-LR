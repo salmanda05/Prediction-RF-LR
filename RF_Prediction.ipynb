{
  "cells": [
    {
      "cell_type": "code",
      "execution_count": 5,
      "metadata": {
        "id": "Dct_UNqD49Tx"
      },
      "outputs": [],
      "source": [
        "#Import modul yang digunakan\n",
        "import numpy as np\n",
        "import pandas as pd\n",
        "import seaborn as sns\n",
        "import matplotlib.pyplot as plt\n",
        "import graphviz\n",
        "from google.colab import files\n",
        "from sklearn import preprocessing\n",
        "from sklearn.model_selection import KFold, cross_val_score\n",
        "from sklearn.model_selection import train_test_split\n",
        "from sklearn.model_selection import GridSearchCV\n",
        "from sklearn.ensemble import RandomForestClassifier\n",
        "from sklearn.model_selection import StratifiedKFold\n",
        "from sklearn import metrics\n",
        "from sklearn.metrics import confusion_matrix\n",
        "from sklearn.metrics import precision_score, recall_score, f1_score, confusion_matrix\n",
        "from sklearn.metrics import classification_report\n",
        "from sklearn.metrics import accuracy_score\n",
        "from sklearn.tree import export_graphviz\n",
        "from matplotlib import pyplot\n",
        "from IPython.display import display\n",
        "import statsmodels.api as sm\n",
        "from scipy.stats import norm\n",
        "import statsmodels.api as sm\n",
        "from google.colab import files\n",
        "from sklearn.utils import resample\n",
        "import math\n"
      ]
    },
    {
      "cell_type": "code",
      "execution_count": 6,
      "metadata": {
        "colab": {
          "base_uri": "https://localhost:8080/",
          "height": 106
        },
        "id": "VUF3yi8g5CfW",
        "outputId": "b196bbdb-7173-44c4-f9ed-ab0e965aa678"
      },
      "outputs": [
        {
          "output_type": "display_data",
          "data": {
            "text/plain": [
              "<IPython.core.display.HTML object>"
            ],
            "text/html": [
              "\n",
              "     <input type=\"file\" id=\"files-8a6946c2-e47f-4bbe-ba52-f9c1c298e31a\" name=\"files[]\" multiple disabled\n",
              "        style=\"border:none\" />\n",
              "     <output id=\"result-8a6946c2-e47f-4bbe-ba52-f9c1c298e31a\">\n",
              "      Upload widget is only available when the cell has been executed in the\n",
              "      current browser session. Please rerun this cell to enable.\n",
              "      </output>\n",
              "      <script>// Copyright 2017 Google LLC\n",
              "//\n",
              "// Licensed under the Apache License, Version 2.0 (the \"License\");\n",
              "// you may not use this file except in compliance with the License.\n",
              "// You may obtain a copy of the License at\n",
              "//\n",
              "//      http://www.apache.org/licenses/LICENSE-2.0\n",
              "//\n",
              "// Unless required by applicable law or agreed to in writing, software\n",
              "// distributed under the License is distributed on an \"AS IS\" BASIS,\n",
              "// WITHOUT WARRANTIES OR CONDITIONS OF ANY KIND, either express or implied.\n",
              "// See the License for the specific language governing permissions and\n",
              "// limitations under the License.\n",
              "\n",
              "/**\n",
              " * @fileoverview Helpers for google.colab Python module.\n",
              " */\n",
              "(function(scope) {\n",
              "function span(text, styleAttributes = {}) {\n",
              "  const element = document.createElement('span');\n",
              "  element.textContent = text;\n",
              "  for (const key of Object.keys(styleAttributes)) {\n",
              "    element.style[key] = styleAttributes[key];\n",
              "  }\n",
              "  return element;\n",
              "}\n",
              "\n",
              "// Max number of bytes which will be uploaded at a time.\n",
              "const MAX_PAYLOAD_SIZE = 100 * 1024;\n",
              "\n",
              "function _uploadFiles(inputId, outputId) {\n",
              "  const steps = uploadFilesStep(inputId, outputId);\n",
              "  const outputElement = document.getElementById(outputId);\n",
              "  // Cache steps on the outputElement to make it available for the next call\n",
              "  // to uploadFilesContinue from Python.\n",
              "  outputElement.steps = steps;\n",
              "\n",
              "  return _uploadFilesContinue(outputId);\n",
              "}\n",
              "\n",
              "// This is roughly an async generator (not supported in the browser yet),\n",
              "// where there are multiple asynchronous steps and the Python side is going\n",
              "// to poll for completion of each step.\n",
              "// This uses a Promise to block the python side on completion of each step,\n",
              "// then passes the result of the previous step as the input to the next step.\n",
              "function _uploadFilesContinue(outputId) {\n",
              "  const outputElement = document.getElementById(outputId);\n",
              "  const steps = outputElement.steps;\n",
              "\n",
              "  const next = steps.next(outputElement.lastPromiseValue);\n",
              "  return Promise.resolve(next.value.promise).then((value) => {\n",
              "    // Cache the last promise value to make it available to the next\n",
              "    // step of the generator.\n",
              "    outputElement.lastPromiseValue = value;\n",
              "    return next.value.response;\n",
              "  });\n",
              "}\n",
              "\n",
              "/**\n",
              " * Generator function which is called between each async step of the upload\n",
              " * process.\n",
              " * @param {string} inputId Element ID of the input file picker element.\n",
              " * @param {string} outputId Element ID of the output display.\n",
              " * @return {!Iterable<!Object>} Iterable of next steps.\n",
              " */\n",
              "function* uploadFilesStep(inputId, outputId) {\n",
              "  const inputElement = document.getElementById(inputId);\n",
              "  inputElement.disabled = false;\n",
              "\n",
              "  const outputElement = document.getElementById(outputId);\n",
              "  outputElement.innerHTML = '';\n",
              "\n",
              "  const pickedPromise = new Promise((resolve) => {\n",
              "    inputElement.addEventListener('change', (e) => {\n",
              "      resolve(e.target.files);\n",
              "    });\n",
              "  });\n",
              "\n",
              "  const cancel = document.createElement('button');\n",
              "  inputElement.parentElement.appendChild(cancel);\n",
              "  cancel.textContent = 'Cancel upload';\n",
              "  const cancelPromise = new Promise((resolve) => {\n",
              "    cancel.onclick = () => {\n",
              "      resolve(null);\n",
              "    };\n",
              "  });\n",
              "\n",
              "  // Wait for the user to pick the files.\n",
              "  const files = yield {\n",
              "    promise: Promise.race([pickedPromise, cancelPromise]),\n",
              "    response: {\n",
              "      action: 'starting',\n",
              "    }\n",
              "  };\n",
              "\n",
              "  cancel.remove();\n",
              "\n",
              "  // Disable the input element since further picks are not allowed.\n",
              "  inputElement.disabled = true;\n",
              "\n",
              "  if (!files) {\n",
              "    return {\n",
              "      response: {\n",
              "        action: 'complete',\n",
              "      }\n",
              "    };\n",
              "  }\n",
              "\n",
              "  for (const file of files) {\n",
              "    const li = document.createElement('li');\n",
              "    li.append(span(file.name, {fontWeight: 'bold'}));\n",
              "    li.append(span(\n",
              "        `(${file.type || 'n/a'}) - ${file.size} bytes, ` +\n",
              "        `last modified: ${\n",
              "            file.lastModifiedDate ? file.lastModifiedDate.toLocaleDateString() :\n",
              "                                    'n/a'} - `));\n",
              "    const percent = span('0% done');\n",
              "    li.appendChild(percent);\n",
              "\n",
              "    outputElement.appendChild(li);\n",
              "\n",
              "    const fileDataPromise = new Promise((resolve) => {\n",
              "      const reader = new FileReader();\n",
              "      reader.onload = (e) => {\n",
              "        resolve(e.target.result);\n",
              "      };\n",
              "      reader.readAsArrayBuffer(file);\n",
              "    });\n",
              "    // Wait for the data to be ready.\n",
              "    let fileData = yield {\n",
              "      promise: fileDataPromise,\n",
              "      response: {\n",
              "        action: 'continue',\n",
              "      }\n",
              "    };\n",
              "\n",
              "    // Use a chunked sending to avoid message size limits. See b/62115660.\n",
              "    let position = 0;\n",
              "    do {\n",
              "      const length = Math.min(fileData.byteLength - position, MAX_PAYLOAD_SIZE);\n",
              "      const chunk = new Uint8Array(fileData, position, length);\n",
              "      position += length;\n",
              "\n",
              "      const base64 = btoa(String.fromCharCode.apply(null, chunk));\n",
              "      yield {\n",
              "        response: {\n",
              "          action: 'append',\n",
              "          file: file.name,\n",
              "          data: base64,\n",
              "        },\n",
              "      };\n",
              "\n",
              "      let percentDone = fileData.byteLength === 0 ?\n",
              "          100 :\n",
              "          Math.round((position / fileData.byteLength) * 100);\n",
              "      percent.textContent = `${percentDone}% done`;\n",
              "\n",
              "    } while (position < fileData.byteLength);\n",
              "  }\n",
              "\n",
              "  // All done.\n",
              "  yield {\n",
              "    response: {\n",
              "      action: 'complete',\n",
              "    }\n",
              "  };\n",
              "}\n",
              "\n",
              "scope.google = scope.google || {};\n",
              "scope.google.colab = scope.google.colab || {};\n",
              "scope.google.colab._files = {\n",
              "  _uploadFiles,\n",
              "  _uploadFilesContinue,\n",
              "};\n",
              "})(self);\n",
              "</script> "
            ]
          },
          "metadata": {}
        },
        {
          "output_type": "stream",
          "name": "stdout",
          "text": [
            "Saving 300acak.csv to 300acak (1).csv\n",
            "File 300acak (1).csv berhasil diunggah dan diproses\n",
            "Tidak ada data yang duplikat berdasarkan kolom ['R101N', 'R102N', 'R103N', 'R104N'].\n"
          ]
        }
      ],
      "source": [
        "# Upload Dataset\n",
        "uploaded = files.upload()\n",
        "\n",
        "for nama_file in uploaded:\n",
        "    data = pd.read_csv(nama_file)\n",
        "    print(f\"File {nama_file} berhasil diunggah dan diproses\")\n",
        "\n",
        "# Menentukan kolom-kolom yang digunakan untuk mengecek duplikat\n",
        "kolom_duplikat = ['R101N', 'R102N', 'R103N', 'R104N']\n",
        "\n",
        "# Mengubah isi kolom menjadi huruf kecil\n",
        "data[kolom_duplikat] = data[kolom_duplikat].apply(lambda x: x.str.lower())\n",
        "\n",
        "# Menghitung jumlah total data yang duplikat berdasarkan kolom tertentu\n",
        "total_duplikat = data.duplicated(subset=kolom_duplikat).sum()\n",
        "if total_duplikat > 0:\n",
        "    print(f\"Total data yang duplikat berdasarkan kolom {kolom_duplikat}: {total_duplikat}\")\n",
        "    print(\"Data yang duplikat:\")\n",
        "    print(data[data.duplicated(subset=kolom_duplikat)])\n",
        "else:\n",
        "    print(f\"Tidak ada data yang duplikat berdasarkan kolom {kolom_duplikat}.\")\n"
      ]
    },
    {
      "cell_type": "code",
      "execution_count": 7,
      "metadata": {
        "colab": {
          "base_uri": "https://localhost:8080/"
        },
        "id": "d9OXWPTf5Dfp",
        "outputId": "ad95273e-f20d-4908-be61-22601e6fee18"
      },
      "outputs": [
        {
          "output_type": "stream",
          "name": "stdout",
          "text": [
            "Mengecek Missing Value:\n",
            "R101N       0\n",
            "R102N       0\n",
            "R103N       0\n",
            "R104N       0\n",
            "Target      0\n",
            "R809A       0\n",
            "R809B       0\n",
            "R809C       0\n",
            "R809D       0\n",
            "R809E       0\n",
            "R809F       0\n",
            "R1205A1     0\n",
            "R1205A2     0\n",
            "R1205A3     0\n",
            "R1206A1     0\n",
            "R1206A2     0\n",
            "R1206A3     0\n",
            "R1206A4     0\n",
            "R1007C      0\n",
            "R1001C1     0\n",
            "R1001A      0\n",
            "R1007A      0\n",
            "R1003B      0\n",
            "R1004       0\n",
            "R1005C      0\n",
            "R1006B      0\n",
            "R1401A     36\n",
            "R1401C     36\n",
            "R501C       0\n",
            "R502A       0\n",
            "R604A       0\n",
            "R604B       0\n",
            "R808A       0\n",
            "R808B       0\n",
            "dtype: int64\n",
            "72\n"
          ]
        }
      ],
      "source": [
        "# Mengecek Missing Value\n",
        "print(\"Mengecek Missing Value:\")\n",
        "print(data.isnull().sum())\n",
        "print(data.isnull().sum().sum())"
      ]
    },
    {
      "cell_type": "code",
      "execution_count": 8,
      "metadata": {
        "colab": {
          "base_uri": "https://localhost:8080/"
        },
        "id": "pZtUaQ5F5ENc",
        "outputId": "acf6b880-8c1b-4520-9f02-956d40d52a78"
      },
      "outputs": [
        {
          "output_type": "stream",
          "name": "stdout",
          "text": [
            "              R101N            R102N          R103N      R104N  Target  R809A  \\\n",
            "0  sulawesi selatan        bulukumba   bonto bahari      a r a       1      1   \n",
            "1              bali       karangasem          abang      abang       1      7   \n",
            "2          bengkulu  bengkulu tengah  pondok kelapa  abu sakim       1      1   \n",
            "3       jawa tengah         magelang       muntilan   adikarto       1      7   \n",
            "4    sumatera utara        batu bara   medang deras  aek nauli       1      1   \n",
            "\n",
            "   R809B  R809C  R809D  R809E  ...  R1005C  R1006B  R1401A  R1401C  R501C  \\\n",
            "0      1      1      1      0  ...       2       1     1.0     1.0      3   \n",
            "1      1     14      5      3  ...       1       1     1.0     1.0      3   \n",
            "2      1      1      7      0  ...       2       4     1.0     1.0      3   \n",
            "3      7      0      6      1  ...       1       1     1.0     1.0      3   \n",
            "4      1      0     10      0  ...       2       1     3.0     3.0      3   \n",
            "\n",
            "   R502A  R604A  R604B  R808A  R808B  \n",
            "0      2      2      4      1      1  \n",
            "1      2      1      0      1      1  \n",
            "2      2      2      0      1      1  \n",
            "3      2      2      0      1      1  \n",
            "4      2      2      0      1      1  \n",
            "\n",
            "[5 rows x 34 columns]\n"
          ]
        }
      ],
      "source": [
        "# Mendapatkan nilai modus dari kolom 'R1401A'\n",
        "modus_kolom_R1401A = int(data['R1401A'].mode()[0])\n",
        "\n",
        "# Mendapatkan nilai modus dari kolom 'R1401C'\n",
        "modus_kolom_R1401C = int(data['R1401C'].mode()[0])\n",
        "\n",
        "# Mengisi nilai yang kosong pada kolom 'R1401A' dengan nilai modus\n",
        "data['R1401A'] = data['R1401A'].fillna(modus_kolom_R1401A)\n",
        "\n",
        "# Mengisi nilai yang kosong pada kolom 'R1401C' dengan nilai modus\n",
        "data['R1401C'] = data['R1401C'].fillna(modus_kolom_R1401C)\n",
        "\n",
        "print(data.head())"
      ]
    },
    {
      "cell_type": "code",
      "execution_count": 9,
      "metadata": {
        "colab": {
          "base_uri": "https://localhost:8080/"
        },
        "id": "4hRQaqniz-Pw",
        "outputId": "8febd7d1-7ac0-4186-cab8-43f22689c2c3"
      },
      "outputs": [
        {
          "output_type": "stream",
          "name": "stdout",
          "text": [
            "Mengecek Missing Value:\n",
            "R101N      0\n",
            "R102N      0\n",
            "R103N      0\n",
            "R104N      0\n",
            "Target     0\n",
            "R809A      0\n",
            "R809B      0\n",
            "R809C      0\n",
            "R809D      0\n",
            "R809E      0\n",
            "R809F      0\n",
            "R1205A1    0\n",
            "R1205A2    0\n",
            "R1205A3    0\n",
            "R1206A1    0\n",
            "R1206A2    0\n",
            "R1206A3    0\n",
            "R1206A4    0\n",
            "R1007C     0\n",
            "R1001C1    0\n",
            "R1001A     0\n",
            "R1007A     0\n",
            "R1003B     0\n",
            "R1004      0\n",
            "R1005C     0\n",
            "R1006B     0\n",
            "R1401A     0\n",
            "R1401C     0\n",
            "R501C      0\n",
            "R502A      0\n",
            "R604A      0\n",
            "R604B      0\n",
            "R808A      0\n",
            "R808B      0\n",
            "dtype: int64\n",
            "0\n"
          ]
        }
      ],
      "source": [
        "# Mengecek Missing Value\n",
        "print(\"Mengecek Missing Value:\")\n",
        "print(data.isnull().sum())\n",
        "print(data.isnull().sum().sum())"
      ]
    },
    {
      "cell_type": "code",
      "execution_count": 10,
      "metadata": {
        "colab": {
          "base_uri": "https://localhost:8080/"
        },
        "id": "bdfE7QmK5E4h",
        "outputId": "c1be0e68-3383-4396-8b06-58dc4b120ce7"
      },
      "outputs": [
        {
          "output_type": "stream",
          "name": "stdout",
          "text": [
            "              R101N            R102N          R103N      R104N  Target  \\\n",
            "0  sulawesi selatan        bulukumba   bonto bahari      a r a       1   \n",
            "1              bali       karangasem          abang      abang       1   \n",
            "2          bengkulu  bengkulu tengah  pondok kelapa  abu sakim       1   \n",
            "3       jawa tengah         magelang       muntilan   adikarto       1   \n",
            "4    sumatera utara        batu bara   medang deras  aek nauli       1   \n",
            "\n",
            "      R809A     R809B     R809C     R809D     R809E  ...    R1005C  R1006B  \\\n",
            "0  0.013333  0.016667  0.027778  0.017857  0.000000  ...  0.333333     0.0   \n",
            "1  0.093333  0.016667  0.388889  0.089286  0.214286  ...  0.000000     0.0   \n",
            "2  0.013333  0.016667  0.027778  0.125000  0.000000  ...  0.333333     1.0   \n",
            "3  0.093333  0.116667  0.000000  0.107143  0.071429  ...  0.000000     0.0   \n",
            "4  0.013333  0.016667  0.000000  0.178571  0.000000  ...  0.333333     0.0   \n",
            "\n",
            "   R1401A  R1401C  R501C  R502A  R604A  R604B  R808A  R808B  \n",
            "0     0.0     0.0    1.0    1.0    1.0    1.0    0.0    0.0  \n",
            "1     0.0     0.0    1.0    1.0    0.0    0.0    0.0    0.0  \n",
            "2     0.0     0.0    1.0    1.0    1.0    0.0    0.0    0.0  \n",
            "3     0.0     0.0    1.0    1.0    1.0    0.0    0.0    0.0  \n",
            "4     1.0     1.0    1.0    1.0    1.0    0.0    0.0    0.0  \n",
            "\n",
            "[5 rows x 34 columns]\n"
          ]
        }
      ],
      "source": [
        "# Menentukan kolom yang akan dinormalisasi\n",
        "kolom_normalize = data.columns[5:34]\n",
        "\n",
        "# Melakukan Min-Max Normalization pada kolom tertentu\n",
        "data[kolom_normalize] = (data[kolom_normalize] - data[kolom_normalize].min()) / (\n",
        "    data[kolom_normalize].max() - data[kolom_normalize].min()\n",
        ")\n",
        "\n",
        "# Menampilkan hasil normalisasi\n",
        "print(data.head())"
      ]
    },
    {
      "cell_type": "code",
      "execution_count": 11,
      "metadata": {
        "id": "gtGYuGZo5P1d"
      },
      "outputs": [],
      "source": [
        "# Memilih variabel dependen dari kolom 5 hingga 34\n",
        "x = data.iloc[:, 5:34]\n",
        "\n",
        "# Memilih variabel independen\n",
        "y = data[['Target']]"
      ]
    },
    {
      "cell_type": "code",
      "execution_count": 12,
      "metadata": {
        "colab": {
          "base_uri": "https://localhost:8080/"
        },
        "id": "Kt0n8kW75SAC",
        "outputId": "bf928f31-0d13-4537-fa94-66be6b449770"
      },
      "outputs": [
        {
          "output_type": "stream",
          "name": "stdout",
          "text": [
            "Data Train: 1485 Data Test: 165\n",
            "Data Train: 1485 Data Test: 165\n",
            "Data Train: 1485 Data Test: 165\n",
            "Data Train: 1485 Data Test: 165\n",
            "Data Train: 1485 Data Test: 165\n",
            "Data Train: 1485 Data Test: 165\n",
            "Data Train: 1485 Data Test: 165\n",
            "Data Train: 1485 Data Test: 165\n",
            "Data Train: 1485 Data Test: 165\n",
            "Data Train: 1485 Data Test: 165\n"
          ]
        }
      ],
      "source": [
        "# Gunakan StratifiedKFold sebagai objek cv\n",
        "random_state = 42\n",
        "cv = StratifiedKFold(n_splits=10, shuffle=True, random_state=random_state)\n",
        "\n",
        "# Fungsi untuk menampilkan pembagian data train dan data test\n",
        "def display_split_indices(cv, x, y):\n",
        "    for train_idx, test_idx in cv.split(x, y):\n",
        "        print(\"Data Train:\", len(train_idx), \"Data Test:\", len(test_idx))\n",
        "\n",
        "display_split_indices(cv, x, y)"
      ]
    },
    {
      "cell_type": "code",
      "execution_count": 13,
      "metadata": {
        "colab": {
          "base_uri": "https://localhost:8080/"
        },
        "id": "-e_uaV025mby",
        "outputId": "3c7ebe36-a543-4e10-9a20-86575fb68c22"
      },
      "outputs": [
        {
          "output_type": "execute_result",
          "data": {
            "text/plain": [
              "((1485, 29), (165, 29), (1485, 1), (165, 1))"
            ]
          },
          "metadata": {},
          "execution_count": 13
        }
      ],
      "source": [
        "# Pembagian Dataset\n",
        "x_train, x_test, y_train, y_test = train_test_split(x, y, test_size=0.10, random_state=random_state)\n",
        "\n",
        "# Menampilkan bentuk dataset\n",
        "x_train.shape, x_test.shape, y_train.shape, y_test.shape"
      ]
    },
    {
      "cell_type": "code",
      "execution_count": 17,
      "metadata": {
        "colab": {
          "base_uri": "https://localhost:8080/"
        },
        "id": "aWXsfJ7X5qCk",
        "outputId": "5d8b0b18-ae07-4940-db65-2a8ca4f652e5"
      },
      "outputs": [
        {
          "output_type": "stream",
          "name": "stderr",
          "text": [
            "/usr/local/lib/python3.10/dist-packages/sklearn/model_selection/_validation.py:540: FitFailedWarning: \n",
            "2700 fits failed out of a total of 8100.\n",
            "The score on these train-test partitions for these parameters will be set to nan.\n",
            "If these failures are not expected, you can try to debug them by setting error_score='raise'.\n",
            "\n",
            "Below are more details about the failures:\n",
            "--------------------------------------------------------------------------------\n",
            "2700 fits failed with the following error:\n",
            "Traceback (most recent call last):\n",
            "  File \"/usr/local/lib/python3.10/dist-packages/sklearn/model_selection/_validation.py\", line 888, in _fit_and_score\n",
            "    estimator.fit(X_train, y_train, **fit_params)\n",
            "  File \"/usr/local/lib/python3.10/dist-packages/sklearn/base.py\", line 1466, in wrapper\n",
            "    estimator._validate_params()\n",
            "  File \"/usr/local/lib/python3.10/dist-packages/sklearn/base.py\", line 666, in _validate_params\n",
            "    validate_parameter_constraints(\n",
            "  File \"/usr/local/lib/python3.10/dist-packages/sklearn/utils/_param_validation.py\", line 95, in validate_parameter_constraints\n",
            "    raise InvalidParameterError(\n",
            "sklearn.utils._param_validation.InvalidParameterError: The 'max_features' parameter of RandomForestClassifier must be an int in the range [1, inf), a float in the range (0.0, 1.0], a str among {'log2', 'sqrt'} or None. Got 'auto' instead.\n",
            "\n",
            "  warnings.warn(some_fits_failed_message, FitFailedWarning)\n",
            "/usr/local/lib/python3.10/dist-packages/sklearn/model_selection/_search.py:1103: UserWarning: One or more of the test scores are non-finite: [       nan        nan        nan        nan        nan        nan\n",
            "        nan        nan        nan        nan        nan        nan\n",
            "        nan        nan        nan        nan        nan        nan\n",
            "        nan        nan        nan        nan        nan        nan\n",
            "        nan        nan        nan 0.82694087 0.82694087 0.82626973\n",
            " 0.82694087 0.82694087 0.82694087 0.82626973 0.82626973 0.82626973\n",
            " 0.82694087 0.82694087 0.82694087 0.82694087 0.82694087 0.82694087\n",
            " 0.82694087 0.82694087 0.82626973 0.82694087 0.82761654 0.82694087\n",
            " 0.82694087 0.82761654 0.82694087 0.82694087 0.82694087 0.82694087\n",
            " 0.82559405 0.82626519 0.82626519 0.82626519 0.82626519 0.82626519\n",
            " 0.82559405 0.82626519 0.82559405 0.82626519 0.82626519 0.82626519\n",
            " 0.82693633 0.82626519 0.82626519 0.82626519 0.82559405 0.82626519\n",
            " 0.82626519 0.82559405 0.82559405 0.82626519 0.82559405 0.82559405\n",
            " 0.82626519 0.82559405 0.82559405        nan        nan        nan\n",
            "        nan        nan        nan        nan        nan        nan\n",
            "        nan        nan        nan        nan        nan        nan\n",
            "        nan        nan        nan        nan        nan        nan\n",
            "        nan        nan        nan        nan        nan        nan\n",
            " 0.8269454  0.82828768 0.82962997 0.8296345  0.82828768 0.82895882\n",
            " 0.82895882 0.82694087 0.82828315 0.82761201 0.82694087 0.82761201\n",
            " 0.82896336 0.82761654 0.82761201 0.82694087 0.82694087 0.82761201\n",
            " 0.82828768 0.82761654 0.82761201 0.82828768 0.82761654 0.82761201\n",
            " 0.82694087 0.82761654 0.82828768 0.82828315 0.82895429 0.82828768\n",
            " 0.82828315 0.82828315 0.82828768 0.82828315 0.82895429 0.82828315\n",
            " 0.82895882 0.82895882 0.82761201 0.82828768 0.82761654 0.82761201\n",
            " 0.82895429 0.82895429 0.82895429 0.82828768 0.82828768 0.82828315\n",
            " 0.82828768 0.82828768 0.82828315 0.82761201 0.82828768 0.82828768\n",
            "        nan        nan        nan        nan        nan        nan\n",
            "        nan        nan        nan        nan        nan        nan\n",
            "        nan        nan        nan        nan        nan        nan\n",
            "        nan        nan        nan        nan        nan        nan\n",
            "        nan        nan        nan 0.82829222 0.82895882 0.82895882\n",
            " 0.82895882 0.82896336 0.8296345  0.82896336 0.82896336 0.82896336\n",
            " 0.82829222 0.82896336 0.83031018 0.82828768 0.8296345  0.82895882\n",
            " 0.83031018 0.83031018 0.8296345  0.82828768 0.82828768 0.82828768\n",
            " 0.82828768 0.82828768 0.82828768 0.82761201 0.82828768 0.82828768\n",
            " 0.82828315 0.82760747 0.8296345  0.82828768 0.82828315 0.82896336\n",
            " 0.82828315 0.82828315 0.82896336 0.82761201 0.82828315 0.8296345\n",
            " 0.82828768 0.82895882 0.8296345  0.82828315 0.82962997 0.82896336\n",
            " 0.82828768 0.82828768 0.82828768 0.82828768 0.82828768 0.82828768\n",
            " 0.82761654 0.82761654 0.82896336        nan        nan        nan\n",
            "        nan        nan        nan        nan        nan        nan\n",
            "        nan        nan        nan        nan        nan        nan\n",
            "        nan        nan        nan        nan        nan        nan\n",
            "        nan        nan        nan        nan        nan        nan\n",
            " 0.82895882 0.82895429 0.82828315 0.82761654 0.82963904 0.82828768\n",
            " 0.83099039 0.82896789 0.82896336 0.82962997 0.82761201 0.82761201\n",
            " 0.82963904 0.82828768 0.82896336 0.83031471 0.83031471 0.82963904\n",
            " 0.82963904 0.82963904 0.83031018 0.82963904 0.82963904 0.83031018\n",
            " 0.82896336 0.82896336 0.82896336 0.82895882 0.82895882 0.82828315\n",
            " 0.8296345  0.82828315 0.82895882 0.83031925 0.83031471 0.82828768\n",
            " 0.83098585 0.82895882 0.82895882 0.82761654 0.82896336 0.82828768\n",
            " 0.8269454  0.82963904 0.82828768 0.82896336 0.82896336 0.82896336\n",
            " 0.82896336 0.82896336 0.82896336 0.82829222 0.82829222 0.82896336\n",
            "        nan        nan        nan        nan        nan        nan\n",
            "        nan        nan        nan        nan        nan        nan\n",
            "        nan        nan        nan        nan        nan        nan\n",
            "        nan        nan        nan        nan        nan        nan\n",
            "        nan        nan        nan 0.82895429 0.82761201 0.82828315\n",
            " 0.82761654 0.82626066 0.82693633 0.82962997 0.82896336 0.82761654\n",
            " 0.8296345  0.82761654 0.82626066 0.82828768 0.82828768 0.8296345\n",
            " 0.82895882 0.82761654 0.82829222 0.82693633 0.82626519 0.82693633\n",
            " 0.82693633 0.82626519 0.82693633 0.82828768 0.82896336 0.82896336\n",
            " 0.82692726 0.82828768 0.82828768 0.82963904 0.82829222 0.82694087\n",
            " 0.8269454  0.82964357 0.82829222 0.82760747 0.82626519 0.82626973\n",
            " 0.82761201 0.82694087 0.82694087 0.82829222 0.82964357 0.82694087\n",
            " 0.82829675 0.82829222 0.82761201 0.82829675 0.82829222 0.82761201\n",
            " 0.82626066 0.82828768 0.82828768        nan        nan        nan\n",
            "        nan        nan        nan        nan        nan        nan\n",
            "        nan        nan        nan        nan        nan        nan\n",
            "        nan        nan        nan        nan        nan        nan\n",
            "        nan        nan        nan        nan        nan        nan\n",
            " 0.8269454  0.82761654 0.8269454  0.82626973 0.82761654 0.8269454\n",
            " 0.82626973 0.82694087 0.82694087 0.82694087 0.82761654 0.82694087\n",
            " 0.82694087 0.82761654 0.82694087 0.82626973 0.82694087 0.82694087\n",
            " 0.82694087 0.82828768 0.82694087 0.82694087 0.82828768 0.82694087\n",
            " 0.82694087 0.82761201 0.82694087 0.82559405 0.82626519 0.82626519\n",
            " 0.82761201 0.82626519 0.82626519 0.82693633 0.82626519 0.82626519\n",
            " 0.82626519 0.82626519 0.82626519 0.82626519 0.82693633 0.82626519\n",
            " 0.82626519 0.82559405 0.82626519 0.82559405 0.82559405 0.82559405\n",
            " 0.82559405 0.82559405 0.82559405 0.82559405 0.82559405 0.82559405\n",
            "        nan        nan        nan        nan        nan        nan\n",
            "        nan        nan        nan        nan        nan        nan\n",
            "        nan        nan        nan        nan        nan        nan\n",
            "        nan        nan        nan        nan        nan        nan\n",
            "        nan        nan        nan 0.82828768 0.82828768 0.82895882\n",
            " 0.82896789 0.83031018 0.82895882 0.82829222 0.82896336 0.82895882\n",
            " 0.8296345  0.82896789 0.8296345  0.8296345  0.82896336 0.8296345\n",
            " 0.82761654 0.82829222 0.82895882 0.82828768 0.82828768 0.82828768\n",
            " 0.82828768 0.82828768 0.82828768 0.82828768 0.82896336 0.82828768\n",
            " 0.82694087 0.82895429 0.82828315 0.82626066 0.82895882 0.82761201\n",
            " 0.82828768 0.8296345  0.82895882 0.82828768 0.82962997 0.82895882\n",
            " 0.82828315 0.82895882 0.82761201 0.82761201 0.82895882 0.82895882\n",
            " 0.82895882 0.82895882 0.82962997 0.82895882 0.82895882 0.82962997\n",
            " 0.82895429 0.82895882 0.82962997        nan        nan        nan\n",
            "        nan        nan        nan        nan        nan        nan\n",
            "        nan        nan        nan        nan        nan        nan\n",
            "        nan        nan        nan        nan        nan        nan\n",
            "        nan        nan        nan        nan        nan        nan\n",
            " 0.82895882 0.8296345  0.8296345  0.82963904 0.82896789 0.82896336\n",
            " 0.83031471 0.82963904 0.82761654 0.83099039 0.83166153 0.83031018\n",
            " 0.83165699 0.83098585 0.82828768 0.82963904 0.82963904 0.8296345\n",
            " 0.8269454  0.82761201 0.82896336 0.8269454  0.82761201 0.82896336\n",
            " 0.82963904 0.82896336 0.82896336 0.82896336 0.82895882 0.82895882\n",
            " 0.82828768 0.82828768 0.8296345  0.82829222 0.82828768 0.8296345\n",
            " 0.82896336 0.82895882 0.82895882 0.82896336 0.8296345  0.8296345\n",
            " 0.82761201 0.82896336 0.8296345  0.82963904 0.82963904 0.82896336\n",
            " 0.82963904 0.82963904 0.82896336 0.82761654 0.82761654 0.82896336\n",
            "        nan        nan        nan        nan        nan        nan\n",
            "        nan        nan        nan        nan        nan        nan\n",
            "        nan        nan        nan        nan        nan        nan\n",
            "        nan        nan        nan        nan        nan        nan\n",
            "        nan        nan        nan 0.82760747 0.82828315 0.82760747\n",
            " 0.82626519 0.82828768 0.8296345  0.82693633 0.82896789 0.82828768\n",
            " 0.82896336 0.82693633 0.82761201 0.82895882 0.82760747 0.82962997\n",
            " 0.82761201 0.82963904 0.82896336 0.82964357 0.82829222 0.82761654\n",
            " 0.82964357 0.82829222 0.82761654 0.82895882 0.82828768 0.82828768\n",
            " 0.83031018 0.83098585 0.83030564 0.82964357 0.82896789 0.82829222\n",
            " 0.82762108 0.82896789 0.82828768 0.82828768 0.82829222 0.82761654\n",
            " 0.82964357 0.82897243 0.82829222 0.8269454  0.82896789 0.82829222\n",
            " 0.82828768 0.82963904 0.82896336 0.82828768 0.82963904 0.82896336\n",
            " 0.82761654 0.82829222 0.82829222        nan        nan        nan\n",
            "        nan        nan        nan        nan        nan        nan\n",
            "        nan        nan        nan        nan        nan        nan\n",
            "        nan        nan        nan        nan        nan        nan\n",
            "        nan        nan        nan        nan        nan        nan\n",
            " 0.82894976 0.82760294 0.82827861 0.82626066 0.82693633 0.82626519\n",
            " 0.82761201 0.82828768 0.82829222 0.82694087 0.82626519 0.82694087\n",
            " 0.82828768 0.82694087 0.8296345  0.82829222 0.82693633 0.82761654\n",
            " 0.82626519 0.82761654 0.82626066 0.82626519 0.82761654 0.82626066\n",
            " 0.82896336 0.82828768 0.82761654 0.82895429 0.82828768 0.82693633\n",
            " 0.82828768 0.82761201 0.82761654 0.82626519 0.82828768 0.82761654\n",
            " 0.82829675 0.82897243 0.82762108 0.82693633 0.82896336 0.82761654\n",
            " 0.8242427  0.82761201 0.82828768 0.82762108 0.8269454  0.82694087\n",
            " 0.82762108 0.8269454  0.82694087 0.82896336 0.82964357 0.82896336]\n",
            "  warnings.warn(\n"
          ]
        },
        {
          "output_type": "stream",
          "name": "stdout",
          "text": [
            "Best grid search hyperparameters are: {'criterion': 'gini', 'max_depth': 6, 'max_features': 'sqrt', 'min_samples_leaf': 2, 'min_samples_split': 2, 'n_estimators': 200}\n",
            "Best grid search score is: 0.8316615272991112\n"
          ]
        }
      ],
      "source": [
        "y_train = y_train.values.ravel()\n",
        "\n",
        "# RANDOM FOREST\n",
        "# Inisialisasi model RandomForestClassifier dengan parameter tertentu\n",
        "rf = RandomForestClassifier(random_state=random_state)\n",
        "\n",
        "# Inisialisasi GridSearchCV\n",
        "grid_space = {\n",
        "    'max_features': ['auto', 'sqrt', 'log2'],\n",
        "    'n_estimators': [100, 200, 500],\n",
        "    'max_depth': [4, 5, 6, 7, 8],\n",
        "    'min_samples_leaf': [1, 2, 4],\n",
        "    'criterion': ['entropy', 'gini'],\n",
        "    'min_samples_split': [2, 5, 10]\n",
        "}\n",
        "\n",
        "grid = GridSearchCV(rf, param_grid=grid_space, cv=10, scoring='accuracy')\n",
        "model_grid = grid.fit(x_train, y_train)\n",
        "\n",
        "# Grid search results\n",
        "print('Best grid search hyperparameters are: ' + str(model_grid.best_params_))\n",
        "print('Best grid search score is: ' + str(model_grid.best_score_))\n",
        "\n",
        "# Inisialisasi model RandomForestClassifier dengan parameter terbaik\n",
        "rf_best = model_grid.best_estimator_"
      ]
    },
    {
      "cell_type": "code",
      "execution_count": 18,
      "metadata": {
        "colab": {
          "base_uri": "https://localhost:8080/"
        },
        "id": "btZBNDsQ6d0R",
        "outputId": "2a2995aa-a687-4f7d-add8-c4d36538b0de"
      },
      "outputs": [
        {
          "output_type": "stream",
          "name": "stdout",
          "text": [
            "Predictions on Testing Data:\n",
            "[1 1 1 1 1 1 1 1 1 1 1 1 1 1 1 1 1 1 1 1 1 1 1 1 1 1 1 1 1 1 1 1 1 1 1 1 1\n",
            " 1 1 1 1 1 1 1 1 1 1 1 1 1 1 1 1 1 1 1 1 1 1 1 1 1 1 1 1 1 1 1 1 1 1 1 1 0\n",
            " 1 1 1 1 1 1 1 1 1 1 1 1 1 1 1 1 1 0 1 1 1 1 1 1 1 1 1 1 1 1 1 1 1 1 1 1 1\n",
            " 1 1 1 1 1 1 1 1 1 1 1 1 1 1 1 1 1 1 1 1 1 1 1 1 0 1 1 1 1 1 1 1 1 1 1 1 1\n",
            " 1 1 1 1 1 1 1 1 1 1 1 1 1 1 1 1 1]\n",
            "Accuracy on Testing Data: 81.82%\n",
            "Confusion Matrix:\n",
            "[[  3  30]\n",
            " [  0 132]]\n"
          ]
        }
      ],
      "source": [
        "# Menggunakan model terbaik untuk prediksi\n",
        "y_pred = rf_best.predict(x_test)\n",
        "\n",
        "# Menampilkan hasil prediksi\n",
        "print(\"Predictions on Testing Data:\")\n",
        "print(y_pred)\n",
        "\n",
        "# Evaluasi akurasi pada data testing\n",
        "accuracy = accuracy_score(y_test, y_pred)\n",
        "print(f'Accuracy on Testing Data: {accuracy * 100:.2f}%')\n",
        "\n",
        "# Menghitung Confusion Matrix\n",
        "cm = confusion_matrix(y_test, y_pred)\n",
        "\n",
        "# Menampilkan Confusion Matrix\n",
        "print(\"Confusion Matrix:\")\n",
        "print(cm)"
      ]
    },
    {
      "cell_type": "code",
      "execution_count": 19,
      "metadata": {
        "colab": {
          "base_uri": "https://localhost:8080/"
        },
        "id": "ekHns7NkZNr5",
        "outputId": "0a3ca0b3-d31c-4bf8-9e9f-628e23575472"
      },
      "outputs": [
        {
          "output_type": "stream",
          "name": "stdout",
          "text": [
            "Precision: 0.8148148148148148\n",
            "Recall: 1.0\n",
            "F-Measure: 0.8979591836734694\n",
            "Specificity: 0.09090909090909091\n"
          ]
        }
      ],
      "source": [
        "# Menghitung presisi\n",
        "precision = precision_score(y_test, y_pred)\n",
        "\n",
        "# Menghitung recall\n",
        "recall = recall_score(y_test, y_pred)\n",
        "\n",
        "# Menghitung F-Measure\n",
        "f_measure = f1_score(y_test, y_pred)\n",
        "\n",
        "# Menghitung confusion matrix\n",
        "cm = confusion_matrix(y_test, y_pred)\n",
        "\n",
        "# Menghitung Specificity\n",
        "specificity = cm[0, 0] / (cm[0, 0] + cm[0, 1])\n",
        "\n",
        "# Menampilkan hasil\n",
        "print(\"Precision:\", precision)\n",
        "print(\"Recall:\", recall)\n",
        "print(\"F-Measure:\", f_measure)\n",
        "print(\"Specificity:\", specificity)"
      ]
    },
    {
      "cell_type": "code",
      "execution_count": 20,
      "metadata": {
        "colab": {
          "base_uri": "https://localhost:8080/",
          "height": 35
        },
        "id": "zuMzAiiM6nFU",
        "outputId": "d8f82d58-49da-4db7-cead-aaf1de869c6b"
      },
      "outputs": [
        {
          "output_type": "execute_result",
          "data": {
            "text/plain": [
              "'rf_pohon1.png'"
            ],
            "application/vnd.google.colaboratory.intrinsic+json": {
              "type": "string"
            }
          },
          "metadata": {},
          "execution_count": 20
        }
      ],
      "source": [
        "# Mendapatkan estimator dari pohon pertama (indeks 0)\n",
        "estimator = rf_best.estimators_[0]\n",
        "\n",
        "# Membuat file dot untuk visualisasi\n",
        "dot_data = export_graphviz(\n",
        "    estimator,\n",
        "    out_file=None,\n",
        "    feature_names=x.columns,\n",
        "    class_names=['0', '1'],  # Ganti dengan kelas yang sesuai\n",
        "    filled=True,\n",
        "    rounded=True,\n",
        "    special_characters=True\n",
        ")\n",
        "\n",
        "# Membuat objek graph dari file dot\n",
        "graph = graphviz.Source(dot_data)\n",
        "\n",
        "# Menyimpan visualisasi ke dalam file PNG atau menampilkannya\n",
        "graph.render(\"rf_pohon1\", format=\"png\", cleanup=True)"
      ]
    },
    {
      "cell_type": "code",
      "execution_count": 21,
      "metadata": {
        "colab": {
          "base_uri": "https://localhost:8080/",
          "height": 605
        },
        "id": "u3nv5pUx6pJz",
        "outputId": "d87029f5-6f50-4097-97df-1f3ca11a6f83"
      },
      "outputs": [
        {
          "output_type": "display_data",
          "data": {
            "text/plain": [
              "<Figure size 1000x600 with 1 Axes>"
            ],
            "image/png": "[encoded data removed]"
          },
          "metadata": {}
        }
      ],
      "source": [
        "# Menampilkan feature importance\n",
        "features = x.columns\n",
        "importances = rf_best.feature_importances_\n",
        "\n",
        "# Mengurutkan feature importance secara menurun\n",
        "indices = importances.argsort()[::-1]\n",
        "\n",
        "# Membuat plot untuk feature importance\n",
        "plt.figure(figsize=(10, 6))\n",
        "plt.bar(range(x.shape[1]), importances[indices], align=\"center\")\n",
        "plt.xticks(range(x.shape[1]), features[indices], rotation=45)\n",
        "plt.xlabel(\"Feature\")\n",
        "plt.ylabel(\"Importance\")\n",
        "plt.title(\"Feature Importance\")\n",
        "plt.show()"
      ]
    }
  ],
  "metadata": {
    "colab": {
      "provenance": []
    },
    "kernelspec": {
      "display_name": "Python 3",
      "name": "python3"
    },
    "language_info": {
      "name": "python"
    }
  },
  "nbformat": 4,
  "nbformat_minor": 0
}